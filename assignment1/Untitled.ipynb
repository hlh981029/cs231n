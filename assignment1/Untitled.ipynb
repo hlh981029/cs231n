{
 "cells": [
  {
   "cell_type": "code",
   "execution_count": 2,
   "metadata": {
    "pycharm": {
     "is_executing": false
    }
   },
   "outputs": [],
   "source": [
    "import numpy as np"
   ]
  },
  {
   "cell_type": "code",
   "execution_count": 22,
   "metadata": {
    "pycharm": {
     "is_executing": false
    },
    "scrolled": false
   },
   "outputs": [
    {
     "data": {
      "text/plain": [
       "array([ 0,  6, 12, 14,  2,  3,  9, 11, 13,  7, 15,  5,  4,  1, 10,  8])"
      ]
     },
     "execution_count": 22,
     "metadata": {},
     "output_type": "execute_result"
    }
   ],
   "source": [
    "a = np.array([1,5342,32,45,3467,543,6,435,76345,67,54678,68,6,345,23,465])\n",
    "n = 5\n",
    "\n",
    "np.argsort(a)"
   ]
  },
  {
   "cell_type": "code",
   "execution_count": 3,
   "metadata": {
    "pycharm": {
     "is_executing": false
    }
   },
   "outputs": [
    {
     "name": "stdout",
     "output_type": "stream",
     "text": [
      "[ 8 10  1  4  5]\n"
     ]
    }
   ],
   "source": [
    "indices = b[np.argsort(-a[b])]\n",
    "print(indices)"
   ]
  },
  {
   "cell_type": "code",
   "execution_count": 4,
   "metadata": {
    "pycharm": {
     "is_executing": false
    }
   },
   "outputs": [],
   "source": [
    "i = 0\n",
    "k = 5\n",
    "dists = np.random.rand(10,20)\n",
    "ind = np.argpartition(dists[i], -k)[-k:]\n",
    "closest_y = ind[np.argsort(-dists[i][ind])]"
   ]
  },
  {
   "cell_type": "code",
   "execution_count": 3,
   "metadata": {},
   "outputs": [
    {
     "data": {
      "text/plain": [
       "1.4142135623730951"
      ]
     },
     "execution_count": 3,
     "metadata": {},
     "output_type": "execute_result"
    }
   ],
   "source": [
    "np.sqrt(2)"
   ]
  },
  {
   "cell_type": "code",
   "execution_count": 13,
   "metadata": {},
   "outputs": [
    {
     "name": "stdout",
     "output_type": "stream",
     "text": [
      "[array([[0.46160127, 0.89963258],\n",
      "       [0.41333744, 0.75996015],\n",
      "       [0.67025035, 0.47658527],\n",
      "       [0.91930096, 0.43668071],\n",
      "       [0.71748236, 0.25528005],\n",
      "       [0.30764393, 0.14536158],\n",
      "       [0.8710383 , 0.63843333],\n",
      "       [0.65006316, 0.0945142 ],\n",
      "       [0.80291679, 0.45929576],\n",
      "       [0.76066655, 0.38980491]])]\n",
      "[array([[0.83496118, 0.44144712],\n",
      "       [0.39277973, 0.02290792],\n",
      "       [0.40894774, 0.46248443],\n",
      "       [0.34993193, 0.10381095],\n",
      "       [0.23810143, 0.86386031],\n",
      "       [0.19412545, 0.29766702],\n",
      "       [0.46487519, 0.72381309],\n",
      "       [0.79935101, 0.92863808],\n",
      "       [0.80947291, 0.26071842],\n",
      "       [0.35854517, 0.31760414]])]\n",
      "[[0.46160127 0.89963258]\n",
      " [0.41333744 0.75996015]\n",
      " [0.67025035 0.47658527]\n",
      " [0.91930096 0.43668071]\n",
      " [0.71748236 0.25528005]\n",
      " [0.30764393 0.14536158]\n",
      " [0.8710383  0.63843333]\n",
      " [0.65006316 0.0945142 ]\n",
      " [0.80291679 0.45929576]\n",
      " [0.76066655 0.38980491]\n",
      " [0.83496118 0.44144712]\n",
      " [0.39277973 0.02290792]\n",
      " [0.40894774 0.46248443]\n",
      " [0.34993193 0.10381095]\n",
      " [0.23810143 0.86386031]\n",
      " [0.19412545 0.29766702]\n",
      " [0.46487519 0.72381309]\n",
      " [0.79935101 0.92863808]\n",
      " [0.80947291 0.26071842]\n",
      " [0.35854517 0.31760414]]\n"
     ]
    }
   ],
   "source": [
    "a = [np.random.rand(10,2), np.random.rand(10,2), np.random.rand(10,2)]\n",
    "b = [np.random.rand(10,12)]\n",
    "print(a[:1])\n",
    "print(a[1:2])\n",
    "print(np.concatenate(a[:1]+a[1:2]))"
   ]
  },
  {
   "cell_type": "code",
   "execution_count": null,
   "metadata": {},
   "outputs": [],
   "source": []
  }
 ],
 "metadata": {
  "kernelspec": {
   "display_name": "Python 3",
   "language": "python",
   "name": "python3"
  },
  "language_info": {
   "codemirror_mode": {
    "name": "ipython",
    "version": 3
   },
   "file_extension": ".py",
   "mimetype": "text/x-python",
   "name": "python",
   "nbconvert_exporter": "python",
   "pygments_lexer": "ipython3",
   "version": "3.7.3"
  },
  "pycharm": {
   "stem_cell": {
    "cell_type": "raw",
    "metadata": {
     "collapsed": false
    },
    "source": []
   }
  }
 },
 "nbformat": 4,
 "nbformat_minor": 2
}
