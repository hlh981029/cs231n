{
 "cells": [
  {
   "cell_type": "markdown",
   "metadata": {
    "tags": [
     "pdf-title"
    ]
   },
   "source": [
    "# Softmax exercise\n",
    "\n",
    "*Complete and hand in this completed worksheet (including its outputs and any supporting code outside of the worksheet) with your assignment submission. For more details see the [assignments page](http://vision.stanford.edu/teaching/cs231n/assignments.html) on the course website.*\n",
    "\n",
    "This exercise is analogous to the SVM exercise. You will:\n",
    "\n",
    "- implement a fully-vectorized **loss function** for the Softmax classifier\n",
    "- implement the fully-vectorized expression for its **analytic gradient**\n",
    "- **check your implementation** with numerical gradient\n",
    "- use a validation set to **tune the learning rate and regularization** strength\n",
    "- **optimize** the loss function with **SGD**\n",
    "- **visualize** the final learned weights\n"
   ]
  },
  {
   "cell_type": "code",
   "execution_count": 1,
   "metadata": {
    "tags": [
     "pdf-ignore"
    ]
   },
   "outputs": [],
   "source": [
    "import random\n",
    "import numpy as np\n",
    "from cs231n.data_utils import load_CIFAR10\n",
    "import matplotlib.pyplot as plt\n",
    "\n",
    "%matplotlib inline\n",
    "plt.rcParams['figure.figsize'] = (10.0, 8.0) # set default size of plots\n",
    "plt.rcParams['image.interpolation'] = 'nearest'\n",
    "plt.rcParams['image.cmap'] = 'gray'\n",
    "\n",
    "# for auto-reloading extenrnal modules\n",
    "# see http://stackoverflow.com/questions/1907993/autoreload-of-modules-in-ipython\n",
    "%load_ext autoreload\n",
    "%autoreload 2"
   ]
  },
  {
   "cell_type": "code",
   "execution_count": 2,
   "metadata": {
    "tags": [
     "pdf-ignore"
    ]
   },
   "outputs": [
    {
     "name": "stdout",
     "output_type": "stream",
     "text": [
      "Train data shape:  (49000, 3073)\n",
      "Train labels shape:  (49000,)\n",
      "Validation data shape:  (1000, 3073)\n",
      "Validation labels shape:  (1000,)\n",
      "Test data shape:  (1000, 3073)\n",
      "Test labels shape:  (1000,)\n",
      "dev data shape:  (500, 3073)\n",
      "dev labels shape:  (500,)\n"
     ]
    }
   ],
   "source": [
    "def get_CIFAR10_data(num_training=49000, num_validation=1000, num_test=1000, num_dev=500):\n",
    "    \"\"\"\n",
    "    Load the CIFAR-10 dataset from disk and perform preprocessing to prepare\n",
    "    it for the linear classifier. These are the same steps as we used for the\n",
    "    SVM, but condensed to a single function.  \n",
    "    \"\"\"\n",
    "    # Load the raw CIFAR-10 data\n",
    "    cifar10_dir = 'cs231n/datasets/cifar-10-batches-py'\n",
    "    \n",
    "    # Cleaning up variables to prevent loading data multiple times (which may cause memory issue)\n",
    "    try:\n",
    "       del X_train, y_train\n",
    "       del X_test, y_test\n",
    "       print('Clear previously loaded data.')\n",
    "    except:\n",
    "       pass\n",
    "\n",
    "    X_train, y_train, X_test, y_test = load_CIFAR10(cifar10_dir)\n",
    "    \n",
    "    # subsample the data\n",
    "    mask = list(range(num_training, num_training + num_validation))\n",
    "    X_val = X_train[mask]\n",
    "    y_val = y_train[mask]\n",
    "    mask = list(range(num_training))\n",
    "    X_train = X_train[mask]\n",
    "    y_train = y_train[mask]\n",
    "    mask = list(range(num_test))\n",
    "    X_test = X_test[mask]\n",
    "    y_test = y_test[mask]\n",
    "    mask = np.random.choice(num_training, num_dev, replace=False)\n",
    "    X_dev = X_train[mask]\n",
    "    y_dev = y_train[mask]\n",
    "    \n",
    "    # Preprocessing: reshape the image data into rows\n",
    "    X_train = np.reshape(X_train, (X_train.shape[0], -1))\n",
    "    X_val = np.reshape(X_val, (X_val.shape[0], -1))\n",
    "    X_test = np.reshape(X_test, (X_test.shape[0], -1))\n",
    "    X_dev = np.reshape(X_dev, (X_dev.shape[0], -1))\n",
    "    \n",
    "    # Normalize the data: subtract the mean image\n",
    "    mean_image = np.mean(X_train, axis = 0)\n",
    "    X_train -= mean_image\n",
    "    X_val -= mean_image\n",
    "    X_test -= mean_image\n",
    "    X_dev -= mean_image\n",
    "    \n",
    "    # add bias dimension and transform into columns\n",
    "    X_train = np.hstack([X_train, np.ones((X_train.shape[0], 1))])\n",
    "    X_val = np.hstack([X_val, np.ones((X_val.shape[0], 1))])\n",
    "    X_test = np.hstack([X_test, np.ones((X_test.shape[0], 1))])\n",
    "    X_dev = np.hstack([X_dev, np.ones((X_dev.shape[0], 1))])\n",
    "    \n",
    "    return X_train, y_train, X_val, y_val, X_test, y_test, X_dev, y_dev\n",
    "\n",
    "\n",
    "# Invoke the above function to get our data.\n",
    "X_train, y_train, X_val, y_val, X_test, y_test, X_dev, y_dev = get_CIFAR10_data()\n",
    "print('Train data shape: ', X_train.shape)\n",
    "print('Train labels shape: ', y_train.shape)\n",
    "print('Validation data shape: ', X_val.shape)\n",
    "print('Validation labels shape: ', y_val.shape)\n",
    "print('Test data shape: ', X_test.shape)\n",
    "print('Test labels shape: ', y_test.shape)\n",
    "print('dev data shape: ', X_dev.shape)\n",
    "print('dev labels shape: ', y_dev.shape)"
   ]
  },
  {
   "cell_type": "markdown",
   "metadata": {},
   "source": [
    "## Softmax Classifier\n",
    "\n",
    "Your code for this section will all be written inside **cs231n/classifiers/softmax.py**. \n"
   ]
  },
  {
   "cell_type": "code",
   "execution_count": 5,
   "metadata": {},
   "outputs": [
    {
     "name": "stdout",
     "output_type": "stream",
     "text": [
      "loss: 2.299309\n",
      "sanity check: 2.302585\n"
     ]
    }
   ],
   "source": [
    "# First implement the naive softmax loss function with nested loops.\n",
    "# Open the file cs231n/classifiers/softmax.py and implement the\n",
    "# softmax_loss_naive function.\n",
    "\n",
    "from cs231n.classifiers.softmax import softmax_loss_naive\n",
    "import time\n",
    "\n",
    "# Generate a random softmax weight matrix and use it to compute the loss.\n",
    "W = np.random.randn(3073, 10) * 0.0001\n",
    "loss, grad = softmax_loss_naive(W, X_dev, y_dev, 0.0)\n",
    "\n",
    "# As a rough sanity check, our loss should be something close to -log(0.1).\n",
    "print('loss: %f' % loss)\n",
    "print('sanity check: %f' % (-np.log(0.1)))"
   ]
  },
  {
   "cell_type": "markdown",
   "metadata": {
    "tags": [
     "pdf-inline"
    ]
   },
   "source": [
    "**Inline Question 1**\n",
    "\n",
    "Why do we expect our loss to be close to -log(0.1)? Explain briefly.**\n",
    "\n",
    "$\\color{blue}{\\textit Your Answer:}$ *Fill this in* \n",
    "\n"
   ]
  },
  {
   "cell_type": "code",
   "execution_count": 6,
   "metadata": {},
   "outputs": [
    {
     "name": "stdout",
     "output_type": "stream",
     "text": [
      "numerical: 0.904428 analytic: 0.904428, relative error: 4.126399e-09\n",
      "numerical: 0.998679 analytic: 0.998679, relative error: 7.528745e-08\n",
      "numerical: -2.325519 analytic: -2.325519, relative error: 2.350792e-08\n",
      "numerical: -1.933353 analytic: -1.933353, relative error: 8.074226e-09\n",
      "numerical: 0.348319 analytic: 0.348319, relative error: 4.867264e-08\n",
      "numerical: -1.258638 analytic: -1.258638, relative error: 4.135662e-09\n",
      "numerical: 0.713590 analytic: 0.713590, relative error: 8.083871e-09\n",
      "numerical: 1.285160 analytic: 1.285160, relative error: 9.661579e-09\n",
      "numerical: -0.513732 analytic: -0.513732, relative error: 1.057958e-07\n",
      "numerical: -2.307721 analytic: -2.307721, relative error: 8.614834e-09\n",
      "numerical: 0.507352 analytic: 0.507352, relative error: 2.763646e-08\n",
      "numerical: -1.388242 analytic: -1.388242, relative error: 9.339806e-09\n",
      "numerical: -0.337247 analytic: -0.337247, relative error: 1.765949e-09\n",
      "numerical: -0.928866 analytic: -0.928866, relative error: 9.851199e-10\n",
      "numerical: -0.328678 analytic: -0.328678, relative error: 1.562370e-07\n",
      "numerical: -0.452887 analytic: -0.452887, relative error: 1.400326e-07\n",
      "numerical: 1.018261 analytic: 1.018261, relative error: 1.418568e-08\n",
      "numerical: 1.236235 analytic: 1.236235, relative error: 3.964940e-08\n",
      "numerical: -0.201666 analytic: -0.201667, relative error: 1.290390e-07\n",
      "numerical: -1.327965 analytic: -1.327965, relative error: 3.132957e-09\n"
     ]
    }
   ],
   "source": [
    "# Complete the implementation of softmax_loss_naive and implement a (naive)\n",
    "# version of the gradient that uses nested loops.\n",
    "loss, grad = softmax_loss_naive(W, X_dev, y_dev, 0.0)\n",
    "\n",
    "# As we did for the SVM, use numeric gradient checking as a debugging tool.\n",
    "# The numeric gradient should be close to the analytic gradient.\n",
    "from cs231n.gradient_check import grad_check_sparse\n",
    "f = lambda w: softmax_loss_naive(w, X_dev, y_dev, 0.0)[0]\n",
    "grad_numerical = grad_check_sparse(f, W, grad, 10)\n",
    "\n",
    "# similar to SVM case, do another gradient check with regularization\n",
    "loss, grad = softmax_loss_naive(W, X_dev, y_dev, 5e1)\n",
    "f = lambda w: softmax_loss_naive(w, X_dev, y_dev, 5e1)[0]\n",
    "grad_numerical = grad_check_sparse(f, W, grad, 10)"
   ]
  },
  {
   "cell_type": "code",
   "execution_count": 7,
   "metadata": {},
   "outputs": [
    {
     "name": "stdout",
     "output_type": "stream",
     "text": [
      "naive loss: 2.299309e+00 computed in 0.115352s\n",
      "vectorized loss: 2.299309e+00 computed in 0.002877s\n",
      "Loss difference: 0.000000\n",
      "Gradient difference: 0.000000\n"
     ]
    }
   ],
   "source": [
    "# Now that we have a naive implementation of the softmax loss function and its gradient,\n",
    "# implement a vectorized version in softmax_loss_vectorized.\n",
    "# The two versions should compute the same results, but the vectorized version should be\n",
    "# much faster.\n",
    "tic = time.time()\n",
    "loss_naive, grad_naive = softmax_loss_naive(W, X_dev, y_dev, 0.000005)\n",
    "toc = time.time()\n",
    "print('naive loss: %e computed in %fs' % (loss_naive, toc - tic))\n",
    "\n",
    "from cs231n.classifiers.softmax import softmax_loss_vectorized\n",
    "tic = time.time()\n",
    "loss_vectorized, grad_vectorized = softmax_loss_vectorized(W, X_dev, y_dev, 0.000005)\n",
    "toc = time.time()\n",
    "print('vectorized loss: %e computed in %fs' % (loss_vectorized, toc - tic))\n",
    "\n",
    "# As we did for the SVM, we use the Frobenius norm to compare the two versions\n",
    "# of the gradient.\n",
    "grad_difference = np.linalg.norm(grad_naive - grad_vectorized, ord='fro')\n",
    "print('Loss difference: %f' % np.abs(loss_naive - loss_vectorized))\n",
    "print('Gradient difference: %f' % grad_difference)"
   ]
  },
  {
   "cell_type": "code",
   "execution_count": 9,
   "metadata": {
    "tags": [
     "code"
    ]
   },
   "outputs": [
    {
     "name": "stdout",
     "output_type": "stream",
     "text": [
      "lr 5.000000e-08 reg 2.500000e+03 train accuracy: 0.255143 val accuracy: 0.260000\n",
      "lr 5.000000e-08 reg 5.000000e+03 train accuracy: 0.284224 val accuracy: 0.305000\n",
      "lr 5.000000e-08 reg 7.500000e+03 train accuracy: 0.310857 val accuracy: 0.331000\n",
      "lr 5.000000e-08 reg 1.000000e+04 train accuracy: 0.331694 val accuracy: 0.340000\n",
      "lr 5.000000e-08 reg 2.500000e+04 train accuracy: 0.329694 val accuracy: 0.346000\n",
      "lr 5.000000e-08 reg 5.000000e+04 train accuracy: 0.306429 val accuracy: 0.325000\n",
      "lr 1.000000e-07 reg 2.500000e+03 train accuracy: 0.328959 val accuracy: 0.335000\n",
      "lr 1.000000e-07 reg 5.000000e+03 train accuracy: 0.357020 val accuracy: 0.362000\n",
      "lr 1.000000e-07 reg 7.500000e+03 train accuracy: 0.365000 val accuracy: 0.373000\n",
      "lr 1.000000e-07 reg 1.000000e+04 train accuracy: 0.352918 val accuracy: 0.365000\n",
      "lr 1.000000e-07 reg 2.500000e+04 train accuracy: 0.328673 val accuracy: 0.345000\n",
      "lr 1.000000e-07 reg 5.000000e+04 train accuracy: 0.305918 val accuracy: 0.310000\n",
      "lr 1.500000e-07 reg 2.500000e+03 train accuracy: 0.358878 val accuracy: 0.378000\n",
      "lr 1.500000e-07 reg 5.000000e+03 train accuracy: 0.371592 val accuracy: 0.388000\n",
      "lr 1.500000e-07 reg 7.500000e+03 train accuracy: 0.366224 val accuracy: 0.375000\n",
      "lr 1.500000e-07 reg 1.000000e+04 train accuracy: 0.354735 val accuracy: 0.372000\n",
      "lr 1.500000e-07 reg 2.500000e+04 train accuracy: 0.327469 val accuracy: 0.338000\n",
      "lr 1.500000e-07 reg 5.000000e+04 train accuracy: 0.304735 val accuracy: 0.327000\n",
      "lr 2.000000e-07 reg 2.500000e+03 train accuracy: 0.379735 val accuracy: 0.387000\n",
      "lr 2.000000e-07 reg 5.000000e+03 train accuracy: 0.374510 val accuracy: 0.381000\n",
      "lr 2.000000e-07 reg 7.500000e+03 train accuracy: 0.362245 val accuracy: 0.383000\n",
      "lr 2.000000e-07 reg 1.000000e+04 train accuracy: 0.353204 val accuracy: 0.358000\n",
      "lr 2.000000e-07 reg 2.500000e+04 train accuracy: 0.328612 val accuracy: 0.347000\n",
      "lr 2.000000e-07 reg 5.000000e+04 train accuracy: 0.302388 val accuracy: 0.315000\n",
      "lr 2.500000e-07 reg 2.500000e+03 train accuracy: 0.384510 val accuracy: 0.398000\n",
      "lr 2.500000e-07 reg 5.000000e+03 train accuracy: 0.375408 val accuracy: 0.380000\n",
      "lr 2.500000e-07 reg 7.500000e+03 train accuracy: 0.364163 val accuracy: 0.383000\n",
      "lr 2.500000e-07 reg 1.000000e+04 train accuracy: 0.357469 val accuracy: 0.367000\n",
      "lr 2.500000e-07 reg 2.500000e+04 train accuracy: 0.328735 val accuracy: 0.337000\n",
      "lr 2.500000e-07 reg 5.000000e+04 train accuracy: 0.303327 val accuracy: 0.323000\n",
      "lr 3.000000e-07 reg 2.500000e+03 train accuracy: 0.387857 val accuracy: 0.389000\n",
      "lr 3.000000e-07 reg 5.000000e+03 train accuracy: 0.369204 val accuracy: 0.378000\n",
      "lr 3.000000e-07 reg 7.500000e+03 train accuracy: 0.364510 val accuracy: 0.382000\n",
      "lr 3.000000e-07 reg 1.000000e+04 train accuracy: 0.355857 val accuracy: 0.369000\n",
      "lr 3.000000e-07 reg 2.500000e+04 train accuracy: 0.327041 val accuracy: 0.341000\n",
      "lr 3.000000e-07 reg 5.000000e+04 train accuracy: 0.305939 val accuracy: 0.315000\n",
      "lr 3.500000e-07 reg 2.500000e+03 train accuracy: 0.390898 val accuracy: 0.405000\n",
      "lr 3.500000e-07 reg 5.000000e+03 train accuracy: 0.372327 val accuracy: 0.380000\n",
      "lr 3.500000e-07 reg 7.500000e+03 train accuracy: 0.358796 val accuracy: 0.367000\n",
      "lr 3.500000e-07 reg 1.000000e+04 train accuracy: 0.351469 val accuracy: 0.360000\n",
      "lr 3.500000e-07 reg 2.500000e+04 train accuracy: 0.322327 val accuracy: 0.338000\n",
      "lr 3.500000e-07 reg 5.000000e+04 train accuracy: 0.303633 val accuracy: 0.311000\n",
      "lr 4.000000e-07 reg 2.500000e+03 train accuracy: 0.388980 val accuracy: 0.400000\n",
      "lr 4.000000e-07 reg 5.000000e+03 train accuracy: 0.376939 val accuracy: 0.396000\n",
      "lr 4.000000e-07 reg 7.500000e+03 train accuracy: 0.362163 val accuracy: 0.376000\n",
      "lr 4.000000e-07 reg 1.000000e+04 train accuracy: 0.352327 val accuracy: 0.369000\n",
      "lr 4.000000e-07 reg 2.500000e+04 train accuracy: 0.325082 val accuracy: 0.333000\n",
      "lr 4.000000e-07 reg 5.000000e+04 train accuracy: 0.303388 val accuracy: 0.312000\n",
      "lr 4.500000e-07 reg 2.500000e+03 train accuracy: 0.390265 val accuracy: 0.390000\n",
      "lr 4.500000e-07 reg 5.000000e+03 train accuracy: 0.375490 val accuracy: 0.393000\n",
      "lr 4.500000e-07 reg 7.500000e+03 train accuracy: 0.362265 val accuracy: 0.371000\n",
      "lr 4.500000e-07 reg 1.000000e+04 train accuracy: 0.354020 val accuracy: 0.361000\n",
      "lr 4.500000e-07 reg 2.500000e+04 train accuracy: 0.328776 val accuracy: 0.337000\n",
      "lr 4.500000e-07 reg 5.000000e+04 train accuracy: 0.302122 val accuracy: 0.312000\n",
      "lr 5.000000e-07 reg 2.500000e+03 train accuracy: 0.389245 val accuracy: 0.404000\n",
      "lr 5.000000e-07 reg 5.000000e+03 train accuracy: 0.377204 val accuracy: 0.388000\n",
      "lr 5.000000e-07 reg 7.500000e+03 train accuracy: 0.363408 val accuracy: 0.367000\n",
      "lr 5.000000e-07 reg 1.000000e+04 train accuracy: 0.353061 val accuracy: 0.368000\n",
      "lr 5.000000e-07 reg 2.500000e+04 train accuracy: 0.326265 val accuracy: 0.332000\n",
      "lr 5.000000e-07 reg 5.000000e+04 train accuracy: 0.305551 val accuracy: 0.320000\n",
      "best validation accuracy achieved during cross-validation: 0.405000\n"
     ]
    }
   ],
   "source": [
    "# Use the validation set to tune hyperparameters (regularization strength and\n",
    "# learning rate). You should experiment with different ranges for the learning\n",
    "# rates and regularization strengths; if you are careful you should be able to\n",
    "# get a classification accuracy of over 0.35 on the validation set.\n",
    "from cs231n.classifiers import Softmax\n",
    "results = {}\n",
    "best_val = -1\n",
    "best_softmax = None\n",
    "learning_rates = [5e-8*i for i in range(1, 11)]\n",
    "regularization_strengths = [2.5e3, 5e3, 7.5e3, 1e4, 2.5e4, 5e4]\n",
    "\n",
    "################################################################################\n",
    "# TODO:                                                                        #\n",
    "# Use the validation set to set the learning rate and regularization strength. #\n",
    "# This should be identical to the validation that you did for the SVM; save    #\n",
    "# the best trained softmax classifer in best_softmax.                          #\n",
    "################################################################################\n",
    "# *****START OF YOUR CODE (DO NOT DELETE/MODIFY THIS LINE)*****\n",
    "\n",
    "for lr in learning_rates:\n",
    "    for rs in regularization_strengths:\n",
    "        softmax = Softmax()\n",
    "        softmax.train(X_train, y_train, lr, rs, num_iters=2000)\n",
    "        y_train_pred = softmax.predict(X_train)\n",
    "        train_accuracy = np.mean(y_train == y_train_pred)\n",
    "        y_val_pred = softmax.predict(X_val)\n",
    "        val_accuracy = np.mean(y_val == y_val_pred)\n",
    "        if val_accuracy > best_val:\n",
    "            best_val = val_accuracy\n",
    "            best_softmax = softmax           \n",
    "        results[(lr,rs)] = train_accuracy, val_accuracy\n",
    "\n",
    "# *****END OF YOUR CODE (DO NOT DELETE/MODIFY THIS LINE)*****\n",
    "    \n",
    "# Print out results.\n",
    "for lr, reg in sorted(results):\n",
    "    train_accuracy, val_accuracy = results[(lr, reg)]\n",
    "    print('lr %e reg %e train accuracy: %f val accuracy: %f' % (\n",
    "                lr, reg, train_accuracy, val_accuracy))\n",
    "    \n",
    "print('best validation accuracy achieved during cross-validation: %f' % best_val)"
   ]
  },
  {
   "cell_type": "code",
   "execution_count": 10,
   "metadata": {},
   "outputs": [
    {
     "name": "stdout",
     "output_type": "stream",
     "text": [
      "softmax on raw pixels final test set accuracy: 0.381000\n"
     ]
    }
   ],
   "source": [
    "# evaluate on test set\n",
    "# Evaluate the best softmax on test set\n",
    "y_test_pred = best_softmax.predict(X_test)\n",
    "test_accuracy = np.mean(y_test == y_test_pred)\n",
    "print('softmax on raw pixels final test set accuracy: %f' % (test_accuracy, ))"
   ]
  },
  {
   "cell_type": "markdown",
   "metadata": {
    "tags": [
     "pdf-inline"
    ]
   },
   "source": [
    "**Inline Question 2** - *True or False*\n",
    "\n",
    "Suppose the overall training loss is defined as the sum of the per-datapoint loss over all training examples. It is possible to add a new datapoint to a training set that would leave the SVM loss unchanged, but this is not the case with the Softmax classifier loss.\n",
    "\n",
    "$\\color{blue}{\\textit Your Answer:}$\n",
    "\n",
    "\n",
    "$\\color{blue}{\\textit Your Explanation:}$\n",
    "\n"
   ]
  },
  {
   "cell_type": "code",
   "execution_count": 11,
   "metadata": {},
   "outputs": [
    {
     "data": {
      "image/png": "[encoded data removed]",
      "text/plain": [
       "<Figure size 432x288 with 10 Axes>"
      ]
     },
     "metadata": {
      "needs_background": "light"
     },
     "output_type": "display_data"
    }
   ],
   "source": [
    "# Visualize the learned weights for each class\n",
    "w = best_softmax.W[:-1,:] # strip out the bias\n",
    "w = w.reshape(32, 32, 3, 10)\n",
    "\n",
    "w_min, w_max = np.min(w), np.max(w)\n",
    "\n",
    "classes = ['plane', 'car', 'bird', 'cat', 'deer', 'dog', 'frog', 'horse', 'ship', 'truck']\n",
    "for i in range(10):\n",
    "    plt.subplot(2, 5, i + 1)\n",
    "    \n",
    "    # Rescale the weights to be between 0 and 255\n",
    "    wimg = 255.0 * (w[:, :, :, i].squeeze() - w_min) / (w_max - w_min)\n",
    "    plt.imshow(wimg.astype('uint8'))\n",
    "    plt.axis('off')\n",
    "    plt.title(classes[i])"
   ]
  },
  {
   "cell_type": "code",
   "execution_count": null,
   "metadata": {},
   "outputs": [],
   "source": []
  }
 ],
 "metadata": {
  "kernelspec": {
   "display_name": "Python 3",
   "language": "python",
   "name": "python3"
  },
  "language_info": {
   "codemirror_mode": {
    "name": "ipython",
    "version": 3
   },
   "file_extension": ".py",
   "mimetype": "text/x-python",
   "name": "python",
   "nbconvert_exporter": "python",
   "pygments_lexer": "ipython3",
   "version": "3.7.3"
  }
 },
 "nbformat": 4,
 "nbformat_minor": 1
}
